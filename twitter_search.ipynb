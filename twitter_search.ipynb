{
 "cells": [
  {
   "cell_type": "code",
   "execution_count": 21,
   "metadata": {},
   "outputs": [],
   "source": [
    "from twython import Twython\n",
    "from auth import *\n",
    "from pprint import pprint\n",
    "from collections import defaultdict"
   ]
  },
  {
   "cell_type": "code",
   "execution_count": 22,
   "metadata": {},
   "outputs": [],
   "source": [
    "twitter = Twython(CONSUMER_KEY, CONSUMER_SECRET)"
   ]
  },
  {
   "cell_type": "code",
   "execution_count": 25,
   "metadata": {},
   "outputs": [],
   "source": [
    "tweets_all = defaultdict(list)\n",
    "for status in twitter.search(q='crap')['statuses']:\n",
    "    time = status['created_at']\n",
    "    influence = status['user']['followers_count']\n",
    "    tweet = status['text']\n",
    "    tweets_all[time].append(influence)\n",
    "    tweets_all[time].append(tweet)\n",
    "    "
   ]
  },
  {
   "cell_type": "code",
   "execution_count": 26,
   "metadata": {},
   "outputs": [
    {
     "data": {
      "text/plain": [
       "defaultdict(list,\n",
       "            {'Mon Apr 30 13:02:00 +0000 2018': [68,\n",
       "              '@Glam_And_Gore I got me some Ren and Stimpy pixel pals from GameStop and showed them to my sister, she freaked out… https://t.co/1KQtNXTJ1F'],\n",
       "             'Mon Apr 30 13:01:59 +0000 2018': [23,\n",
       "              '#ThoughtofTheDay The duly elected Liar N Chief was spewing profanity and lies Saturday night in Michigan. And they… https://t.co/lPH4AJOpAQ'],\n",
       "             'Mon Apr 30 13:01:58 +0000 2018': [89,\n",
       "              '@stoolpresidente NBA has became crap a long with thr NFL its more acting than anything. Thr players has lost the lo… https://t.co/aqvS9pb7EF'],\n",
       "             'Mon Apr 30 13:01:57 +0000 2018': [3073,\n",
       "              '@polishprincessh shut this crap down now!'],\n",
       "             'Mon Apr 30 13:01:47 +0000 2018': [464,\n",
       "              'RT @slygirlsnb: For those of you who are disappointed that #GH didn’t win.  There is a reason.  Their SL and writing was and still is crap.…'],\n",
       "             'Mon Apr 30 13:01:46 +0000 2018': [10,\n",
       "              \"crap facebook shits out of their anal hole : Pineapple doesn't go on pizza (it does really)\"],\n",
       "             'Mon Apr 30 13:01:45 +0000 2018': [233,\n",
       "              'RT @bchapman151: Anon posted this graphic.\\nHaving worked for 6 years helping to produce the CRAP that is distracting people daily, I feel g…',\n",
       "              2,\n",
       "              \"I miss you but you aren't mine so i shut the crap up\",\n",
       "              59,\n",
       "              '@MSNBC Bury that ugly piece of crap that was on MSNBC they are pigs!!',\n",
       "              42350,\n",
       "              'RT @rondbusa: @RefugeeWatcher Dallas has two new “halal crap” restaurants on Lower Greenville. I can’t for the life of me understand how fo…'],\n",
       "             'Mon Apr 30 13:01:43 +0000 2018': [259,\n",
       "              '@4YrsToday @realObushma Dennis Miller, Who? Oh that has been that used to be on TV &amp; made 1 lousy movie about a vam… https://t.co/vNbBYZElTF'],\n",
       "             'Mon Apr 30 13:01:42 +0000 2018': [3399,\n",
       "              '@420JOON i have the worst wifi bc my portable wifi is complete crap so i only saw the first two N IM YELLIN UR GORGEOUS JOV'],\n",
       "             'Mon Apr 30 13:01:40 +0000 2018': [1344,\n",
       "              'Hey @realDonaldTrump  &amp; supporters. \\n@SenWarren is verbally  &amp; racially attacked with \" Pochahantas\" \\nYou called… https://t.co/dWBDSXEMBd'],\n",
       "             'Mon Apr 30 13:01:37 +0000 2018': [76,\n",
       "              '@realDonaldTrump NO, YOUR DEAD! YOUR THE EMBARRASSMENT TO OUR COUNTRY. YOU HAVE DENIGRATED PEOPLE AND ORGANIZATIONS… https://t.co/PCX1F67dG4'],\n",
       "             'Mon Apr 30 13:01:34 +0000 2018': [180,\n",
       "              '@CNN - Please explain why you let this crap go on air.  They are normalizing this Orwellian upside down inverted lo… https://t.co/KLsQCThvcK']})"
      ]
     },
     "execution_count": 26,
     "metadata": {},
     "output_type": "execute_result"
    }
   ],
   "source": [
    "tweets_all"
   ]
  },
  {
   "cell_type": "code",
   "execution_count": null,
   "metadata": {},
   "outputs": [],
   "source": []
  }
 ],
 "metadata": {
  "kernelspec": {
   "display_name": "Python 3",
   "language": "python",
   "name": "python3"
  },
  "language_info": {
   "codemirror_mode": {
    "name": "ipython",
    "version": 3
   },
   "file_extension": ".py",
   "mimetype": "text/x-python",
   "name": "python",
   "nbconvert_exporter": "python",
   "pygments_lexer": "ipython3",
   "version": "3.6.4"
  }
 },
 "nbformat": 4,
 "nbformat_minor": 2
}
